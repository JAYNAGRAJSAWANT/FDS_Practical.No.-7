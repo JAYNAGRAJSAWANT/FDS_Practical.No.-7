{
  "nbformat": 4,
  "nbformat_minor": 0,
  "metadata": {
    "colab": {
      "name": "Bubble Sort and Selection Sort",
      "provenance": [],
      "collapsed_sections": [],
      "authorship_tag": "ABX9TyOptp+c4B/o7t3dNnJPxiet",
      "include_colab_link": true
    },
    "kernelspec": {
      "display_name": "Python 3",
      "name": "python3"
    },
    "language_info": {
      "name": "python"
    }
  },
  "cells": [
    {
      "cell_type": "markdown",
      "metadata": {
        "id": "view-in-github",
        "colab_type": "text"
      },
      "source": [
        "<a href=\"https://colab.research.google.com/github/JAYNAGRAJSAWANT/FDS_Practical.No.-7/blob/main/Bubble_Sort_and_Selection_Sort.ipynb\" target=\"_parent\"><img src=\"https://colab.research.google.com/assets/colab-badge.svg\" alt=\"Open In Colab\"/></a>"
      ]
    },
    {
      "cell_type": "code",
      "metadata": {
        "colab": {
          "background_save": true,
          "base_uri": "https://localhost:8080/"
        },
        "id": "_HaOHoS7MVDZ",
        "outputId": "163c6cab-0379-4825-f201-20f587be8031"
      },
      "source": [
        "print(\"\\nHow many students are there?\")\n",
        "n = int(input())\n",
        "array = []\n",
        "i=0\n",
        "for i in range(n):\n",
        "    print(\"\\n Enter percentage marks\")\n",
        "    item = float(input())\n",
        "    array.append(item)\n",
        "def BubbleSort(arr,n):\n",
        "    i = 0\n",
        "    for i in range(n-1):        \n",
        "        for j in range(0,n-i-1):\n",
        "            if(arr[j] > arr[j+1]):\n",
        "                temp = arr[j]\n",
        "                arr[j] = arr[j+1]\n",
        "                arr[j+1] = temp\n",
        "    print(arr)\n",
        "    print(\"Top Five Scores are...\")\n",
        "    for i in range (len(arr)-1,1,-1):\n",
        "        print(arr[i])\n",
        "def SelectionSort(arr,n):      \n",
        "    for i in range(n):\n",
        "        Min = i\n",
        "        for j in range(i+1,n):\n",
        "            if(arr[j]<arr[Min]):\n",
        "                Min = j\n",
        "        temp=arr[i]\n",
        "        arr[i]=arr[Min]\n",
        "        arr[Min]=temp        \n",
        "\n",
        "    print(arr)       \n",
        "print(\"You have entered following scores...\\n\")\n",
        "print(array)\n",
        "while(True):\n",
        "    print(\"\\n 1. Bubble Sort\")\n",
        "    print(\"\\n 2. Selection Sort\")\n",
        "    print(\"\\n 3. Exit\")\n",
        "    print(\"\\n Enter your Choice: \")\n",
        "    choice = int(input())\n",
        "    if(choice == 1):\n",
        "        print(\"\\n The sorted Scores are...\")\n",
        "        BubbleSort(array,n)\n",
        "    elif(choice ==2):\n",
        "        print(\"\\n The sorted Scores are...\")\n",
        "        SelectionSort(array,n)\n",
        "    else:\n",
        "        print(\"You are exitted ,Thank You !\")\n",
        "        break\n"
      ],
      "execution_count": null,
      "outputs": [
        {
          "name": "stdout",
          "output_type": "stream",
          "text": [
            "\n",
            "How many students are there?\n",
            "\n",
            " Enter percentage marks\n",
            "\n",
            " Enter percentage marks\n",
            "\n",
            " Enter percentage marks\n",
            "\n",
            " Enter percentage marks\n",
            "\n",
            " Enter percentage marks\n",
            "\n",
            " Enter percentage marks\n",
            "\n",
            " Enter percentage marks\n",
            "\n",
            " Enter percentage marks\n",
            "You have entered following scores...\n",
            "\n",
            "[89.0, 67.98, 75.78, 35.8, 95.0, 67.0, 91.0, 56.0]\n",
            "\n",
            " 1. Bubble Sort\n",
            "\n",
            " 2. Selection Sort\n",
            "\n",
            " 3. Exit\n",
            "\n",
            " Enter your Choice: \n",
            "\n",
            " The sorted Scores are...\n",
            "[35.8, 56.0, 67.0, 67.98, 75.78, 89.0, 91.0, 95.0]\n",
            "Top Five Scores are...\n",
            "95.0\n",
            "91.0\n",
            "89.0\n",
            "75.78\n",
            "67.98\n",
            "67.0\n",
            "\n",
            " 1. Bubble Sort\n",
            "\n",
            " 2. Selection Sort\n",
            "\n",
            " 3. Exit\n",
            "\n",
            " Enter your Choice: \n",
            "\n",
            " The sorted Scores are...\n",
            "[35.8, 56.0, 67.0, 67.98, 75.78, 89.0, 91.0, 95.0]\n",
            "\n",
            " 1. Bubble Sort\n",
            "\n",
            " 2. Selection Sort\n",
            "\n",
            " 3. Exit\n",
            "\n",
            " Enter your Choice: \n"
          ]
        }
      ]
    }
  ]
}